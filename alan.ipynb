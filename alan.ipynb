{
 "cells": [
  {
   "cell_type": "code",
   "execution_count": 293,
   "metadata": {},
   "outputs": [],
   "source": [
    "import pandas as pd\n",
    "import numpy as np\n",
    "import networkx as nx\n",
    "import matplotlib.pyplot as plt\n",
    "from mpl_toolkits.basemap import Basemap\n",
    "from util import *\n",
    "import warnings\n",
    "warnings.filterwarnings(\"ignore\")"
   ]
  },
  {
   "cell_type": "code",
   "execution_count": 235,
   "metadata": {},
   "outputs": [
    {
     "data": {
      "text/html": [
       "<div>\n",
       "<style scoped>\n",
       "    .dataframe tbody tr th:only-of-type {\n",
       "        vertical-align: middle;\n",
       "    }\n",
       "\n",
       "    .dataframe tbody tr th {\n",
       "        vertical-align: top;\n",
       "    }\n",
       "\n",
       "    .dataframe thead th {\n",
       "        text-align: right;\n",
       "    }\n",
       "</style>\n",
       "<table border=\"1\" class=\"dataframe\">\n",
       "  <thead>\n",
       "    <tr style=\"text-align: right;\">\n",
       "      <th></th>\n",
       "      <th>month</th>\n",
       "      <th>day_of_week</th>\n",
       "      <th>airline</th>\n",
       "      <th>origin</th>\n",
       "      <th>dest</th>\n",
       "      <th>num_of_flights</th>\n",
       "      <th>avg_delay</th>\n",
       "    </tr>\n",
       "  </thead>\n",
       "  <tbody>\n",
       "    <tr>\n",
       "      <th>0</th>\n",
       "      <td>1</td>\n",
       "      <td>0</td>\n",
       "      <td>9E</td>\n",
       "      <td>ABE</td>\n",
       "      <td>DTW</td>\n",
       "      <td>8</td>\n",
       "      <td>3.875000</td>\n",
       "    </tr>\n",
       "    <tr>\n",
       "      <th>1</th>\n",
       "      <td>1</td>\n",
       "      <td>0</td>\n",
       "      <td>9E</td>\n",
       "      <td>ATL</td>\n",
       "      <td>AUS</td>\n",
       "      <td>7</td>\n",
       "      <td>-2.571429</td>\n",
       "    </tr>\n",
       "    <tr>\n",
       "      <th>2</th>\n",
       "      <td>1</td>\n",
       "      <td>0</td>\n",
       "      <td>9E</td>\n",
       "      <td>ATL</td>\n",
       "      <td>BHM</td>\n",
       "      <td>1</td>\n",
       "      <td>35.000000</td>\n",
       "    </tr>\n",
       "    <tr>\n",
       "      <th>3</th>\n",
       "      <td>1</td>\n",
       "      <td>0</td>\n",
       "      <td>9E</td>\n",
       "      <td>ATL</td>\n",
       "      <td>BNA</td>\n",
       "      <td>6</td>\n",
       "      <td>-4.833333</td>\n",
       "    </tr>\n",
       "    <tr>\n",
       "      <th>4</th>\n",
       "      <td>1</td>\n",
       "      <td>0</td>\n",
       "      <td>9E</td>\n",
       "      <td>ATL</td>\n",
       "      <td>BUF</td>\n",
       "      <td>4</td>\n",
       "      <td>7.750000</td>\n",
       "    </tr>\n",
       "  </tbody>\n",
       "</table>\n",
       "</div>"
      ],
      "text/plain": [
       "   month  day_of_week airline origin dest  num_of_flights  avg_delay\n",
       "0      1            0      9E    ABE  DTW               8   3.875000\n",
       "1      1            0      9E    ATL  AUS               7  -2.571429\n",
       "2      1            0      9E    ATL  BHM               1  35.000000\n",
       "3      1            0      9E    ATL  BNA               6  -4.833333\n",
       "4      1            0      9E    ATL  BUF               4   7.750000"
      ]
     },
     "execution_count": 235,
     "metadata": {},
     "output_type": "execute_result"
    }
   ],
   "source": [
    "data_2009 = pd.read_csv(\"data/2009_grouped.csv\")\n",
    "data_2009.head()"
   ]
  },
  {
   "cell_type": "code",
   "execution_count": 236,
   "metadata": {},
   "outputs": [],
   "source": [
    "G_2009 = create_graph(data_2009)"
   ]
  },
  {
   "cell_type": "code",
   "execution_count": 291,
   "metadata": {},
   "outputs": [],
   "source": [
    "def gini_coef(G):\n",
    "    deg_dist = np.array(list(dict(G.degree(weight=\"num_of_flights\")).values()))\n",
    "    res = 0\n",
    "    for i in deg_dist:\n",
    "        res += np.abs(deg_dist - i).sum()\n",
    "    return res / G.number_of_nodes() / deg_dist.sum()"
   ]
  },
  {
   "cell_type": "code",
   "execution_count": 310,
   "metadata": {},
   "outputs": [
    {
     "data": {
      "text/plain": [
       "NodeView(('ABE', 'ATL', 'CLE', 'CLT', 'DTW', 'FLL', 'MCO', 'ORD', 'ABI', 'DFW', 'ABQ', 'AMA', 'BUR', 'BWI', 'DAL', 'DEN', 'ELP', 'HOU', 'IAD', 'IAH', 'LAS', 'LAX', 'LBB', 'MAF', 'MCI', 'MDW', 'MSP', 'OAK', 'PDX', 'PHX', 'SAN', 'SEA', 'SFO', 'SLC', 'STL', 'TPA', 'TUS', 'ABY', 'ACK', 'JFK', 'ACT', 'ACV', 'CEC', 'SMF', 'ACY', 'ADK', 'ANC', 'ADQ', 'AEX', 'MEM', 'AGS', 'CAE', 'AKN', 'ALB', 'CVG', 'DCA', 'EWR', 'PHL', 'ALO', 'BET', 'CDV', 'DLG', 'FAI', 'HNL', 'JNU', 'OGG', 'OME', 'OTZ', 'SCC', 'ASE', 'ATW', 'AUS', 'AVL', 'AVP', 'BDL', 'BHM', 'BIL', 'BKG', 'BMI', 'BNA', 'BOI', 'BOS', 'BQK', 'BTR', 'BTV', 'BUF', 'BZN', 'CAK', 'CHA', 'CHO', 'CHS', 'CID', 'CMH', 'COS', 'CRW', 'CSG', 'DAB', 'DAY', 'DHN', 'DSM', 'EGE', 'EVV', 'EWN', 'EYW', 'FAY', 'FCA', 'FLO', 'FNT', 'FSD', 'FSM', 'FWA', 'GNV', 'GPT', 'GRK', 'GRR', 'GSO', 'GSP', 'GTR', 'GUC', 'HDN', 'HPN', 'HSV', 'ICT', 'ILM', 'IND', 'JAC', 'JAN', 'JAX', 'LAW', 'LEX', 'LFT', 'LGA', 'LIT', 'LNK', 'LWB', 'LYH', 'MDT', 'MEI', 'MGM', 'MHT', 'MIA', 'MKE', 'MLB', 'MLI', 'MLU', 'MOB', 'MSN', 'MSY', 'MTJ', 'MYR', 'OAJ', 'OKC', 'OMA', 'ONT', 'ORF', 'PBI', 'PFN', 'PHF', 'PIA', 'PIT', 'PNS', 'PVD', 'PWM', 'RDU', 'RIC', 'RNO', 'ROA', 'ROC', 'RSW', 'SAT', 'SAV', 'SBN', 'SDF', 'SGF', 'SHV', 'SJC', 'SJU', 'SNA', 'SRQ', 'STT', 'STX', 'SWF', 'SYR', 'TLH', 'TRI', 'TUL', 'TYS', 'VLD', 'VPS', 'XNA', 'HRL', 'LGB', 'AZO', 'BFL', 'BGM', 'BGR', 'BIS', 'BJI', 'BLI', 'GEG', 'MFR', 'BQN', 'BRO', 'BRW', 'BTM', 'ISP', 'CDC', 'YAK', 'CIC', 'RDD', 'CLD', 'CLL', 'CMI', 'CMX', 'COD', 'CPR', 'GCC', 'CRP', 'HTS', 'CWA', 'DBQ', 'PLN', 'DRO', 'EUG', 'FAR', 'FAT', 'GJT', 'GTF', 'HLN', 'IDA', 'KOA', 'LIH', 'MRY', 'MSO', 'PSC', 'PSP', 'RAP', 'RDM', 'RKS', 'SBA', 'TVC', 'GGG', 'LCH', 'LRD', 'MFE', 'MHK', 'ROW', 'SAF', 'SJT', 'SPS', 'TXK', 'TYR', 'DLH', 'ELM', 'ERI', 'GRB', 'ITH', 'LAN', 'LSE', 'MBS', 'RST', 'SCE', 'TOL', 'EKO', 'FLG', 'GFK', 'MQT', 'GST', 'ITO', 'IPL', 'YUM', 'IYK', 'PIR', 'PSE', 'KTN', 'PSG', 'SIT', 'WRG', 'OXR', 'SBP', 'SGU', 'SMX', 'LMT', 'LWS', 'MOD', 'MOT', 'RHI', 'SUX', 'MWH', 'SPI', 'OTH', 'TEX', 'PIH', 'SUN', 'TWF', 'WYS'))"
      ]
     },
     "execution_count": 310,
     "metadata": {},
     "output_type": "execute_result"
    }
   ],
   "source": [
    "G_2009.nodes"
   ]
  },
  {
   "cell_type": "code",
   "execution_count": 334,
   "metadata": {},
   "outputs": [
    {
     "name": "stdout",
     "output_type": "stream",
     "text": [
      "{'num_of_flights': 785}\n",
      "{'num_of_flights': 509}\n",
      "{'num_of_flights': 397}\n",
      "{'num_of_flights': 990}\n",
      "{'num_of_flights': 62}\n",
      "{'num_of_flights': 125}\n",
      "{'num_of_flights': 1168}\n"
     ]
    }
   ],
   "source": [
    "for i in G_2009.nodes():\n",
    "    for j in list(G_2009.neighbors(i)):\n",
    "        print(G_2009.get_edge_data(j,i, 'num_of_flights'))#['num_of_flights'])\n",
    "    break"
   ]
  },
  {
   "cell_type": "code",
   "execution_count": 330,
   "metadata": {},
   "outputs": [],
   "source": [
    "G_2009_di = G_2009.to_undirected()\n"
   ]
  },
  {
   "cell_type": "code",
   "execution_count": 333,
   "metadata": {},
   "outputs": [
    {
     "data": {
      "text/plain": [
       "{'num_of_flights': 785}"
      ]
     },
     "execution_count": 333,
     "metadata": {},
     "output_type": "execute_result"
    }
   ],
   "source": [
    "G_2009_di.get_edge_data(\"ATL\", \"ABE\")"
   ]
  },
  {
   "cell_type": "code",
   "execution_count": 314,
   "metadata": {},
   "outputs": [
    {
     "data": {
      "text/html": [
       "<div>\n",
       "<style scoped>\n",
       "    .dataframe tbody tr th:only-of-type {\n",
       "        vertical-align: middle;\n",
       "    }\n",
       "\n",
       "    .dataframe tbody tr th {\n",
       "        vertical-align: top;\n",
       "    }\n",
       "\n",
       "    .dataframe thead th {\n",
       "        text-align: right;\n",
       "    }\n",
       "</style>\n",
       "<table border=\"1\" class=\"dataframe\">\n",
       "  <thead>\n",
       "    <tr style=\"text-align: right;\">\n",
       "      <th></th>\n",
       "      <th>origin</th>\n",
       "      <th>dest</th>\n",
       "      <th>month</th>\n",
       "      <th>day_of_week</th>\n",
       "      <th>num_of_flights</th>\n",
       "      <th>avg_delay</th>\n",
       "    </tr>\n",
       "  </thead>\n",
       "  <tbody>\n",
       "    <tr>\n",
       "      <th>0</th>\n",
       "      <td>ABE</td>\n",
       "      <td>ATL</td>\n",
       "      <td>476</td>\n",
       "      <td>231</td>\n",
       "      <td>785</td>\n",
       "      <td>1221.595005</td>\n",
       "    </tr>\n",
       "    <tr>\n",
       "      <th>1</th>\n",
       "      <td>ABE</td>\n",
       "      <td>CLE</td>\n",
       "      <td>444</td>\n",
       "      <td>231</td>\n",
       "      <td>508</td>\n",
       "      <td>-451.347258</td>\n",
       "    </tr>\n",
       "    <tr>\n",
       "      <th>2</th>\n",
       "      <td>ABE</td>\n",
       "      <td>CLT</td>\n",
       "      <td>494</td>\n",
       "      <td>261</td>\n",
       "      <td>397</td>\n",
       "      <td>-91.733333</td>\n",
       "    </tr>\n",
       "    <tr>\n",
       "      <th>3</th>\n",
       "      <td>ABE</td>\n",
       "      <td>DTW</td>\n",
       "      <td>476</td>\n",
       "      <td>231</td>\n",
       "      <td>989</td>\n",
       "      <td>-41.501376</td>\n",
       "    </tr>\n",
       "    <tr>\n",
       "      <th>4</th>\n",
       "      <td>ABE</td>\n",
       "      <td>FLL</td>\n",
       "      <td>159</td>\n",
       "      <td>72</td>\n",
       "      <td>62</td>\n",
       "      <td>171.616667</td>\n",
       "    </tr>\n",
       "    <tr>\n",
       "      <th>5</th>\n",
       "      <td>ABE</td>\n",
       "      <td>MCO</td>\n",
       "      <td>258</td>\n",
       "      <td>75</td>\n",
       "      <td>125</td>\n",
       "      <td>123.483333</td>\n",
       "    </tr>\n",
       "    <tr>\n",
       "      <th>6</th>\n",
       "      <td>ABE</td>\n",
       "      <td>ORD</td>\n",
       "      <td>863</td>\n",
       "      <td>416</td>\n",
       "      <td>1168</td>\n",
       "      <td>717.857504</td>\n",
       "    </tr>\n",
       "  </tbody>\n",
       "</table>\n",
       "</div>"
      ],
      "text/plain": [
       "  origin dest  month  day_of_week  num_of_flights    avg_delay\n",
       "0    ABE  ATL    476          231             785  1221.595005\n",
       "1    ABE  CLE    444          231             508  -451.347258\n",
       "2    ABE  CLT    494          261             397   -91.733333\n",
       "3    ABE  DTW    476          231             989   -41.501376\n",
       "4    ABE  FLL    159           72              62   171.616667\n",
       "5    ABE  MCO    258           75             125   123.483333\n",
       "6    ABE  ORD    863          416            1168   717.857504"
      ]
     },
     "execution_count": 314,
     "metadata": {},
     "output_type": "execute_result"
    }
   ],
   "source": [
    "data_2009 = data_2009.groupby([\"origin\", \"dest\"]).sum().reset_index()\n",
    "data_2009[data_2009.origin == \"ABE\"]"
   ]
  },
  {
   "cell_type": "code",
   "execution_count": 304,
   "metadata": {},
   "outputs": [
    {
     "data": {
      "text/plain": [
       "2.350355016032982"
      ]
     },
     "execution_count": 304,
     "metadata": {},
     "output_type": "execute_result"
    }
   ],
   "source": [
    "average_shortest_path_length(G_2009)"
   ]
  },
  {
   "cell_type": "code",
   "execution_count": 289,
   "metadata": {},
   "outputs": [],
   "source": []
  },
  {
   "cell_type": "code",
   "execution_count": null,
   "metadata": {},
   "outputs": [],
   "source": []
  }
 ],
 "metadata": {
  "kernelspec": {
   "display_name": "Python 3.10.7 64-bit",
   "language": "python",
   "name": "python3"
  },
  "language_info": {
   "codemirror_mode": {
    "name": "ipython",
    "version": 3
   },
   "file_extension": ".py",
   "mimetype": "text/x-python",
   "name": "python",
   "nbconvert_exporter": "python",
   "pygments_lexer": "ipython3",
   "version": "3.10.7"
  },
  "orig_nbformat": 4,
  "vscode": {
   "interpreter": {
    "hash": "15a3a1d02b16c5f0f7818f79310520e3bf618f6f01b420b9dd242659c73da7ae"
   }
  }
 },
 "nbformat": 4,
 "nbformat_minor": 2
}
